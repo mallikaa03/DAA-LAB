{
 "cells": [
  {
   "cell_type": "code",
   "execution_count": 54,
   "metadata": {},
   "outputs": [],
   "source": [
    "import timeit\n",
    "import matplotlib.pyplot as plt \n",
    "import numpy as np\n",
    "import time"
   ]
  },
  {
   "cell_type": "code",
   "execution_count": 55,
   "metadata": {},
   "outputs": [],
   "source": [
    "starttime=time.time()\n",
    "def min_max(arr,start,end):\n",
    "\n",
    "    if start==end:\n",
    "        return (arr[start],arr[end])\n",
    "    \n",
    "    mid=(start+end)//2\n",
    "    max1,min1=min_max(arr,start,mid)\n",
    "    max2,min2=min_max(arr,mid+1,end)\n",
    "\n",
    "    return(max(max1,max2),min(min1,min2))"
   ]
  },
  {
   "cell_type": "code",
   "execution_count": 56,
   "metadata": {},
   "outputs": [
    {
     "name": "stdout",
     "output_type": "stream",
     "text": [
      "[45, 67, 23, 69, 90, 12]\n"
     ]
    }
   ],
   "source": [
    "num=int(input(\"Please enter the size of the array:\")) \n",
    "arr=[]\n",
    "for i in range(0,num):\n",
    "    l=int(input())\n",
    "    arr.append(l)\n",
    "print(arr)"
   ]
  },
  {
   "cell_type": "code",
   "execution_count": 57,
   "metadata": {},
   "outputs": [
    {
     "name": "stdout",
     "output_type": "stream",
     "text": [
      "Max of the array is: 90\n",
      "Min of the array is: 12\n"
     ]
    }
   ],
   "source": [
    "a,b=min_max(arr,0,num-1)\n",
    "\n",
    "print(\"Max of the array is:\",a)\n",
    "print(\"Min of the array is:\",b)"
   ]
  },
  {
   "cell_type": "code",
   "execution_count": 53,
   "metadata": {},
   "outputs": [
    {
     "data": {
      "text/plain": [
       "[<matplotlib.lines.Line2D at 0x1f31a82eb30>]"
      ]
     },
     "execution_count": 53,
     "metadata": {},
     "output_type": "execute_result"
    },
    {
     "data": {
      "image/png": "[encoded data removed]",
      "text/plain": [
       "<Figure size 432x288 with 1 Axes>"
      ]
     },
     "metadata": {
      "needs_background": "light"
     },
     "output_type": "display_data"
    }
   ],
   "source": [
    "plt.xlabel('List Length')\n",
    "plt.ylabel('Time Complexity(ms)')\n",
    "\n",
    "times = list()\n",
    "elements = np.array([i*2 for i in range(1, 10)])\n",
    "\n",
    "times = list()\n",
    "\n",
    "for i in range(1, 10):\n",
    "        starttime=time.time()\n",
    "        a = np.random.randint(1000, size = i * 1000)\n",
    "        min_max(a, 0, len(a)-1)\n",
    "        endtime=time.time()\n",
    "        times.append((endtime - starttime)*1000)\n",
    "plt.plot(elements, times, label = 'minmax')"
   ]
  }
 ],
 "metadata": {
  "kernelspec": {
   "display_name": "Python 3.10.5 64-bit",
   "language": "python",
   "name": "python3"
  },
  "language_info": {
   "codemirror_mode": {
    "name": "ipython",
    "version": 3
   },
   "file_extension": ".py",
   "mimetype": "text/x-python",
   "name": "python",
   "nbconvert_exporter": "python",
   "pygments_lexer": "ipython3",
   "version": "3.10.5"
  },
  "orig_nbformat": 4,
  "vscode": {
   "interpreter": {
    "hash": "26de051ba29f2982a8de78e945f0abaf191376122a1563185a90213a26c5da77"
   }
  }
 },
 "nbformat": 4,
 "nbformat_minor": 2
}
