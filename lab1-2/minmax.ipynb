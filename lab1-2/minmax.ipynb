{
 "cells": [
  {
   "cell_type": "code",
   "execution_count": 1,
   "metadata": {},
   "outputs": [],
   "source": [
    "import timeit\n",
    "import matplotlib.pyplot as plt \n",
    "import numpy as np\n",
    "import time"
   ]
  },
  {
   "cell_type": "code",
   "execution_count": 2,
   "metadata": {},
   "outputs": [],
   "source": [
    "starttime=time.time()\n",
    "def min_max(arr,start,end):\n",
    "\n",
    "    if start==end:\n",
    "        return (arr[start],arr[end])\n",
    "    \n",
    "    mid=(start+end)//2\n",
    "    max1,min1=min_max(arr,start,mid)\n",
    "    max2,min2=min_max(arr,mid+1,end)\n",
    "\n",
    "    return(max(max1,max2),min(min1,min2))"
   ]
  },
  {
   "cell_type": "code",
   "execution_count": 5,
   "metadata": {},
   "outputs": [],
   "source": [
    "num=int(input(\"Please enter the size of the array:\")) \n",
    "arr=[]\n",
    "for i in range(0,num):\n",
    "    l=int(input())\n",
    "    arr.append(l)"
   ]
  },
  {
   "cell_type": "code",
   "execution_count": 6,
   "metadata": {},
   "outputs": [
    {
     "name": "stdout",
     "output_type": "stream",
     "text": [
      "Max: 89\n",
      "Min: 3\n"
     ]
    }
   ],
   "source": [
    "a,b=min_max(arr,0,num-1)\n",
    "\n",
    "print(\"Max:\",a)\n",
    "print(\"Min:\",b)"
   ]
  },
  {
   "cell_type": "code",
   "execution_count": 21,
   "metadata": {},
   "outputs": [
    {
     "data": {
      "text/plain": [
       "[<matplotlib.lines.Line2D at 0x1f317cf86d0>]"
      ]
     },
     "execution_count": 21,
     "metadata": {},
     "output_type": "execute_result"
    },
    {
     "data": {
      "image/png": "[encoded data removed]",
      "text/plain": [
       "<Figure size 432x288 with 1 Axes>"
      ]
     },
     "metadata": {
      "needs_background": "light"
     },
     "output_type": "display_data"
    }
   ],
   "source": [
    "plt.xlabel('List Length')\n",
    "plt.ylabel('Time Complexity')\n",
    "\n",
    "times = list()\n",
    "elements = np.array([i*2 for i in range(1, 10)])\n",
    "\n",
    "times = list()\n",
    "\n",
    "for i in range(1, 10):\n",
    "        starttime=timeit.default_timer()\n",
    "        a = np.random.randint(1000, size = i * 1000)\n",
    "        min_max(a, 0, len(a)-1)\n",
    "        endtime=timeit.default_timer()\n",
    "        times.append(endtime - starttime)\n",
    "plt.plot(elements, times, label = 'minmax')"
   ]
  }
 ],
 "metadata": {
  "kernelspec": {
   "display_name": "Python 3.10.5 64-bit",
   "language": "python",
   "name": "python3"
  },
  "language_info": {
   "codemirror_mode": {
    "name": "ipython",
    "version": 3
   },
   "file_extension": ".py",
   "mimetype": "text/x-python",
   "name": "python",
   "nbconvert_exporter": "python",
   "pygments_lexer": "ipython3",
   "version": "3.10.5"
  },
  "orig_nbformat": 4,
  "vscode": {
   "interpreter": {
    "hash": "26de051ba29f2982a8de78e945f0abaf191376122a1563185a90213a26c5da77"
   }
  }
 },
 "nbformat": 4,
 "nbformat_minor": 2
}
