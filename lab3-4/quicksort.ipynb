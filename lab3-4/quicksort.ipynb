{
 "cells": [
  {
   "cell_type": "code",
   "execution_count": 33,
   "metadata": {},
   "outputs": [],
   "source": [
    "import numpy as np\n",
    "import matplotlib.pyplot as plt\n",
    "import time\n",
    "import timeit"
   ]
  },
  {
   "cell_type": "code",
   "execution_count": 34,
   "metadata": {},
   "outputs": [],
   "source": [
    "def partition(arr, low, high):\n",
    "    i=(low-1)\n",
    "    pivot=arr[high]\n",
    "\n",
    "    for j in range(low, high):\n",
    "        if arr[j]<=pivot:\n",
    "            i=i+1\n",
    "            arr[i], arr[j]= arr[j], arr[i]\n",
    "    arr[i+1], arr[high]= arr[high], arr[i+1]\n",
    "    return (i+1)"
   ]
  },
  {
   "cell_type": "code",
   "execution_count": 35,
   "metadata": {},
   "outputs": [],
   "source": [
    "def quicksort(arr, low, high):\n",
    "    if low < high:\n",
    "        partion_index= partition(arr, low, high)\n",
    "        quicksort(arr, low, partion_index-1)\n",
    "        quicksort(arr, partion_index+1, high)"
   ]
  },
  {
   "cell_type": "code",
   "execution_count": 36,
   "metadata": {},
   "outputs": [],
   "source": [
    "def printarr(arr):\n",
    "    for i in range(len(arr)):\n",
    "        print(arr[i], end=\" \")\n",
    "    print()\n",
    "\n"
   ]
  },
  {
   "cell_type": "code",
   "execution_count": 37,
   "metadata": {},
   "outputs": [
    {
     "name": "stdout",
     "output_type": "stream",
     "text": [
      "Sorted array is: \n",
      "12 34 56 67 83 89 \n"
     ]
    }
   ],
   "source": [
    "if __name__ == '__main__':\n",
    "    array = [67, 83, 34, 56, 12, 89]\n",
    "    size= len(array)\n",
    "\n",
    "    quicksort(array, 0, size-1)\n",
    "\n",
    "    print(\"Sorted array is: \")\n",
    "    printarr(array)"
   ]
  },
  {
   "cell_type": "code",
   "execution_count": 38,
   "metadata": {},
   "outputs": [],
   "source": [
    "sorts = [\n",
    "    {\n",
    "        \"name\": \"Quick Sort\",\n",
    "        \"sort\": lambda arr: quicksort(arr, 0, len(arr)-1)\n",
    "    }\n",
    "]\n",
    "elements = np.array([i*1000 for i in range(1, 10)])"
   ]
  },
  {
   "cell_type": "code",
   "execution_count": 52,
   "metadata": {},
   "outputs": [
    {
     "name": "stdout",
     "output_type": "stream",
     "text": [
      "Quicksortsort Sorted 1000 Elements in 0.0019991397857666016 s\n",
      "Quicksortsort Sorted 2000 Elements in 0.004998683929443359 s\n",
      "Quicksortsort Sorted 3000 Elements in 0.010000467300415039 s\n",
      "Quicksortsort Sorted 4000 Elements in 0.012998819351196289 s\n",
      "Quicksortsort Sorted 5000 Elements in 0.01899862289428711 s\n",
      "Quicksortsort Sorted 6000 Elements in 0.024001359939575195 s\n",
      "Quicksortsort Sorted 7000 Elements in 0.027998924255371094 s\n",
      "Quicksortsort Sorted 8000 Elements in 0.02899956703186035 s\n",
      "Quicksortsort Sorted 9000 Elements in 0.03400063514709473 s\n",
      "Quick Sort Sorted Elements in 0.171875 s\n"
     ]
    },
    {
     "data": {
      "image/png": "[encoded data removed]",
      "text/plain": [
       "<Figure size 432x288 with 1 Axes>"
      ]
     },
     "metadata": {
      "needs_background": "light"
     },
     "output_type": "display_data"
    }
   ],
   "source": [
    "from turtle import color\n",
    "\n",
    "\n",
    "plt.xlabel('List Length')\n",
    "plt.ylabel('Time(ms)')\n",
    "\n",
    "for sort in sorts:\n",
    "    times = list()\n",
    "    start_all = time.process_time()\n",
    "    for i in range(1, 10):\n",
    "        start = timeit.default_timer()\n",
    "        a = np.random.randint(1000, size = i * 1000)\n",
    "        quicksort(a, 0, len(a)-1)\n",
    "        end = timeit.default_timer()\n",
    "        times.append((end - start)*1000)\n",
    "\n",
    "        print(\"Quicksortsort\", \"Sorted\", i * 1000, \"Elements in\", end - start, \"s\")\n",
    "    end_all = time.process_time()\n",
    "    print(sort[\"name\"], \"Sorted Elements in\", end_all - start_all, \"s\")\n",
    "\n",
    "    plt.plot(elements, times, label = 'mergesort', color='orange')"
   ]
  }
 ],
 "metadata": {
  "kernelspec": {
   "display_name": "Python 3.10.5 64-bit",
   "language": "python",
   "name": "python3"
  },
  "language_info": {
   "codemirror_mode": {
    "name": "ipython",
    "version": 3
   },
   "file_extension": ".py",
   "mimetype": "text/x-python",
   "name": "python",
   "nbconvert_exporter": "python",
   "pygments_lexer": "ipython3",
   "version": "3.10.5"
  },
  "orig_nbformat": 4,
  "vscode": {
   "interpreter": {
    "hash": "26de051ba29f2982a8de78e945f0abaf191376122a1563185a90213a26c5da77"
   }
  }
 },
 "nbformat": 4,
 "nbformat_minor": 2
}
