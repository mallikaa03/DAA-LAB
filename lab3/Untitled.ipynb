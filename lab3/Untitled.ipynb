{
 "cells": [
  {
   "cell_type": "code",
   "execution_count": 1,
   "id": "acecc88c",
   "metadata": {},
   "outputs": [],
   "source": [
    "import time\n",
    "import numpy as np\n",
    "import matplotlib.pyplot as plt"
   ]
  },
  {
   "cell_type": "code",
   "execution_count": 2,
   "id": "58eb69e2",
   "metadata": {},
   "outputs": [],
   "source": [
    "def mergesort(arr):\n",
    "    if len(arr)>1:\n",
    "        mid = len(arr)//2\n",
    "\n",
    "        left= arr[:mid]\n",
    "        right = arr[mid:]\n",
    "\n",
    "        mergesort(left)\n",
    "        mergesort(right)\n",
    "        i=0\n",
    "        j=0\n",
    "        k=0\n",
    "        while i < len(left) and j<len(right):\n",
    "            if left[i]< right[j]:\n",
    "                arr[k] = left[i]\n",
    "                i+=1\n",
    "            else:\n",
    "                arr[k]= right[j]\n",
    "                j+=1\n",
    "            k+=1\n",
    "\n",
    "        while i< len(left):\n",
    "             arr[k] = left[i]\n",
    "             i+=1\n",
    "             k+=1\n",
    "        \n",
    "        while j< len(right):\n",
    "            arr[k] = right[j]\n",
    "            j+=1\n",
    "            k+=1\n",
    "\n",
    "def printarr(arr):\n",
    "    for i in range(len(arr)):\n",
    "        print(arr[i], end=\" \")\n",
    "    print()\n",
    "\n"
   ]
  },
  {
   "cell_type": "code",
   "execution_count": 3,
   "id": "9d617de5",
   "metadata": {},
   "outputs": [
    {
     "name": "stdout",
     "output_type": "stream",
     "text": [
      "Sorted array is: \n",
      "6 8 34 64 87 98 102 \n"
     ]
    }
   ],
   "source": [
    "if __name__ == '__main__':\n",
    "    array = [6, 8, 34, 87, 64, 98, 102]\n",
    "\n",
    "    mergesort(array)\n",
    "\n",
    "    print(\"Sorted array is: \")\n",
    "    printarr(array)\n"
   ]
  },
  {
   "cell_type": "code",
   "execution_count": 7,
   "id": "db163762",
   "metadata": {},
   "outputs": [],
   "source": [
    "sorts = [\n",
    "    {\n",
    "        \"name\": \"Merge Sort\",\n",
    "        \"sort\": lambda arr: mergesort(arr)\n",
    "    }\n",
    "]\n",
    "elements = np.array([i*1000 for i in range(1, 10)])"
   ]
  },
  {
   "cell_type": "code",
   "execution_count": 11,
   "id": "ede4eb62",
   "metadata": {},
   "outputs": [
    {
     "name": "stdout",
     "output_type": "stream",
     "text": [
      "Mergesort Sorted 1000 Elements in 0.0 s\n",
      "Mergesort Sorted 2000 Elements in 0.015625 s\n",
      "Mergesort Sorted 3000 Elements in 0.015625 s\n",
      "Mergesort Sorted 4000 Elements in 0.03125 s\n",
      "Mergesort Sorted 5000 Elements in 0.046875 s\n",
      "Mergesort Sorted 6000 Elements in 0.046875 s\n",
      "Mergesort Sorted 7000 Elements in 0.046875 s\n",
      "Mergesort Sorted 8000 Elements in 0.078125 s\n",
      "Mergesort Sorted 9000 Elements in 0.078125 s\n",
      "Merge Sort Sorted Elements in 0.359375 s\n"
     ]
    },
    {
     "data": {
      "image/png": "[encoded data removed]",
      "text/plain": [
       "<Figure size 432x288 with 1 Axes>"
      ]
     },
     "metadata": {
      "needs_background": "light"
     },
     "output_type": "display_data"
    }
   ],
   "source": [
    "plt.xlabel('List Length')\n",
    "plt.ylabel('Time Complexity')\n",
    "\n",
    "for sort in sorts:\n",
    "    times = list()\n",
    "    start_all = time.process_time()\n",
    "    for i in range(1, 10):\n",
    "        start = time.process_time()\n",
    "        a = np.random.randint(1000, size = i * 1000)\n",
    "        mergesort(a)\n",
    "        end = time.process_time()\n",
    "        times.append(end - start)\n",
    "\n",
    "        print(\"Mergesort\", \"Sorted\", i * 1000, \"Elements in\", end - start, \"s\")\n",
    "    end_all = time.process_time()\n",
    "    print(sort[\"name\"], \"Sorted Elements in\", end_all - start_all, \"s\")\n",
    "\n",
    "    plt.plot(elements, times, label = sort[\"name\"])"
   ]
  },
  {
   "cell_type": "code",
   "execution_count": null,
   "id": "66286a4b",
   "metadata": {},
   "outputs": [],
   "source": []
  }
 ],
 "metadata": {
  "kernelspec": {
   "display_name": "Python 3 (ipykernel)",
   "language": "python",
   "name": "python3"
  },
  "language_info": {
   "codemirror_mode": {
    "name": "ipython",
    "version": 3
   },
   "file_extension": ".py",
   "mimetype": "text/x-python",
   "name": "python",
   "nbconvert_exporter": "python",
   "pygments_lexer": "ipython3",
   "version": "3.10.5"
  }
 },
 "nbformat": 4,
 "nbformat_minor": 5
}
